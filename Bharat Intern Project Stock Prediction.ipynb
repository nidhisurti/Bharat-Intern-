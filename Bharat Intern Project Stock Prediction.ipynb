{
 "cells": [
  {
   "cell_type": "markdown",
   "id": "803d8bb1",
   "metadata": {},
   "source": [
    "# Bharat Intern "
   ]
  },
  {
   "cell_type": "markdown",
   "id": "5fcf4f35",
   "metadata": {},
   "source": [
    "# Name : Nidhi Pratap Surti"
   ]
  },
  {
   "cell_type": "markdown",
   "id": "03f54afe",
   "metadata": {},
   "source": [
    "# Data Science Internship"
   ]
  },
  {
   "cell_type": "markdown",
   "id": "918d90b4",
   "metadata": {},
   "source": [
    "Stock Prediction Project"
   ]
  },
  {
   "cell_type": "markdown",
   "id": "8d509cda",
   "metadata": {},
   "source": [
    "Take stock price of any company you\n",
    "want and predicts its price by using LSTM.\n",
    "Use only Jupyter notebook code."
   ]
  },
  {
   "cell_type": "markdown",
   "id": "ce8beaf0",
   "metadata": {},
   "source": [
    "Import the neccessary Librariers"
   ]
  },
  {
   "cell_type": "code",
   "execution_count": 2,
   "id": "f5f2006c",
   "metadata": {},
   "outputs": [
    {
     "name": "stdout",
     "output_type": "stream",
     "text": [
      "Collecting tensorflowNote: you may need to restart the kernel to use updated packages.\n",
      "  Downloading tensorflow-2.13.0-cp38-cp38-win_amd64.whl (1.9 kB)\n",
      "Collecting tensorflow-intel==2.13.0\n",
      "  Downloading tensorflow_intel-2.13.0-cp38-cp38-win_amd64.whl (276.5 MB)\n",
      "Collecting keras<2.14,>=2.13.1\n",
      "  Downloading keras-2.13.1-py3-none-any.whl (1.7 MB)\n",
      "Collecting tensorflow-estimator<2.14,>=2.13.0\n",
      "\n",
      "  Downloading tensorflow_estimator-2.13.0-py2.py3-none-any.whl (440 kB)\n",
      "Collecting grpcio<2.0,>=1.24.3\n",
      "  Downloading grpcio-1.56.2-cp38-cp38-win_amd64.whl (4.3 MB)\n",
      "Collecting tensorflow-io-gcs-filesystem>=0.23.1\n",
      "  Using cached tensorflow_io_gcs_filesystem-0.31.0-cp38-cp38-win_amd64.whl (1.5 MB)\n",
      "Requirement already satisfied: setuptools in c:\\users\\dell\\anaconda3\\lib\\site-packages (from tensorflow-intel==2.13.0->tensorflow) (52.0.0.post20210125)\n",
      "Collecting absl-py>=1.0.0\n",
      "  Using cached absl_py-1.4.0-py3-none-any.whl (126 kB)\n",
      "Collecting flatbuffers>=23.1.21\n",
      "  Using cached flatbuffers-23.5.26-py2.py3-none-any.whl (26 kB)\n",
      "Collecting astunparse>=1.6.0\n",
      "  Using cached astunparse-1.6.3-py2.py3-none-any.whl (12 kB)\n",
      "Collecting tensorboard<2.14,>=2.13\n",
      "  Downloading tensorboard-2.13.0-py3-none-any.whl (5.6 MB)\n",
      "Requirement already satisfied: termcolor>=1.1.0 in c:\\users\\dell\\anaconda3\\lib\\site-packages (from tensorflow-intel==2.13.0->tensorflow) (2.2.0)\n",
      "Collecting opt-einsum>=2.3.2\n",
      "  Using cached opt_einsum-3.3.0-py3-none-any.whl (65 kB)\n",
      "Collecting gast<=0.4.0,>=0.2.1\n",
      "  Using cached gast-0.4.0-py3-none-any.whl (9.8 kB)\n",
      "Requirement already satisfied: packaging in c:\\users\\dell\\anaconda3\\lib\\site-packages (from tensorflow-intel==2.13.0->tensorflow) (23.0)\n",
      "Requirement already satisfied: h5py>=2.9.0 in c:\\users\\dell\\anaconda3\\lib\\site-packages (from tensorflow-intel==2.13.0->tensorflow) (2.10.0)\n",
      "Collecting protobuf!=4.21.0,!=4.21.1,!=4.21.2,!=4.21.3,!=4.21.4,!=4.21.5,<5.0.0dev,>=3.20.3\n",
      "  Downloading protobuf-4.23.4-cp38-cp38-win_amd64.whl (422 kB)\n",
      "Requirement already satisfied: six>=1.12.0 in c:\\users\\dell\\anaconda3\\lib\\site-packages (from tensorflow-intel==2.13.0->tensorflow) (1.15.0)\n",
      "Requirement already satisfied: typing-extensions<4.6.0,>=3.6.6 in c:\\users\\dell\\anaconda3\\lib\\site-packages (from tensorflow-intel==2.13.0->tensorflow) (4.4.0)\n",
      "Requirement already satisfied: numpy<=1.24.3,>=1.22 in c:\\users\\dell\\anaconda3\\lib\\site-packages (from tensorflow-intel==2.13.0->tensorflow) (1.23.5)\n",
      "Collecting google-pasta>=0.1.1\n",
      "  Using cached google_pasta-0.2.0-py3-none-any.whl (57 kB)\n",
      "Requirement already satisfied: wrapt>=1.11.0 in c:\\users\\dell\\anaconda3\\lib\\site-packages (from tensorflow-intel==2.13.0->tensorflow) (1.12.1)\n",
      "Collecting libclang>=13.0.0\n",
      "  Downloading libclang-16.0.6-py2.py3-none-win_amd64.whl (24.4 MB)\n",
      "Requirement already satisfied: wheel<1.0,>=0.23.0 in c:\\users\\dell\\anaconda3\\lib\\site-packages (from astunparse>=1.6.0->tensorflow-intel==2.13.0->tensorflow) (0.36.2)\n",
      "Requirement already satisfied: tensorboard-data-server<0.8.0,>=0.7.0 in c:\\users\\dell\\anaconda3\\lib\\site-packages (from tensorboard<2.14,>=2.13->tensorflow-intel==2.13.0->tensorflow) (0.7.1)\n",
      "Collecting google-auth-oauthlib<1.1,>=0.5\n",
      "  Using cached google_auth_oauthlib-1.0.0-py2.py3-none-any.whl (18 kB)\n",
      "Collecting markdown>=2.6.8\n",
      "  Downloading Markdown-3.4.4-py3-none-any.whl (94 kB)\n",
      "Requirement already satisfied: werkzeug>=1.0.1 in c:\\users\\dell\\anaconda3\\lib\\site-packages (from tensorboard<2.14,>=2.13->tensorflow-intel==2.13.0->tensorflow) (1.0.1)\n",
      "Requirement already satisfied: google-auth<3,>=1.6.3 in c:\\users\\dell\\anaconda3\\lib\\site-packages (from tensorboard<2.14,>=2.13->tensorflow-intel==2.13.0->tensorflow) (2.21.0)\n",
      "Requirement already satisfied: requests<3,>=2.21.0 in c:\\users\\dell\\anaconda3\\lib\\site-packages (from tensorboard<2.14,>=2.13->tensorflow-intel==2.13.0->tensorflow) (2.25.1)\n",
      "Requirement already satisfied: pyasn1-modules>=0.2.1 in c:\\users\\dell\\anaconda3\\lib\\site-packages (from google-auth<3,>=1.6.3->tensorboard<2.14,>=2.13->tensorflow-intel==2.13.0->tensorflow) (0.3.0)\n",
      "Requirement already satisfied: rsa<5,>=3.1.4 in c:\\users\\dell\\anaconda3\\lib\\site-packages (from google-auth<3,>=1.6.3->tensorboard<2.14,>=2.13->tensorflow-intel==2.13.0->tensorflow) (4.9)\n",
      "Requirement already satisfied: urllib3<2.0 in c:\\users\\dell\\anaconda3\\lib\\site-packages (from google-auth<3,>=1.6.3->tensorboard<2.14,>=2.13->tensorflow-intel==2.13.0->tensorflow) (1.26.4)\n",
      "Requirement already satisfied: cachetools<6.0,>=2.0.0 in c:\\users\\dell\\anaconda3\\lib\\site-packages (from google-auth<3,>=1.6.3->tensorboard<2.14,>=2.13->tensorflow-intel==2.13.0->tensorflow) (5.3.1)\n",
      "Requirement already satisfied: requests-oauthlib>=0.7.0 in c:\\users\\dell\\anaconda3\\lib\\site-packages (from google-auth-oauthlib<1.1,>=0.5->tensorboard<2.14,>=2.13->tensorflow-intel==2.13.0->tensorflow) (1.3.1)\n",
      "Requirement already satisfied: importlib-metadata>=4.4 in c:\\users\\dell\\anaconda3\\lib\\site-packages (from markdown>=2.6.8->tensorboard<2.14,>=2.13->tensorflow-intel==2.13.0->tensorflow) (6.7.0)\n",
      "Requirement already satisfied: zipp>=0.5 in c:\\users\\dell\\anaconda3\\lib\\site-packages (from importlib-metadata>=4.4->markdown>=2.6.8->tensorboard<2.14,>=2.13->tensorflow-intel==2.13.0->tensorflow) (3.4.1)\n",
      "Requirement already satisfied: pyasn1<0.6.0,>=0.4.6 in c:\\users\\dell\\anaconda3\\lib\\site-packages (from pyasn1-modules>=0.2.1->google-auth<3,>=1.6.3->tensorboard<2.14,>=2.13->tensorflow-intel==2.13.0->tensorflow) (0.5.0)\n",
      "Requirement already satisfied: idna<3,>=2.5 in c:\\users\\dell\\anaconda3\\lib\\site-packages (from requests<3,>=2.21.0->tensorboard<2.14,>=2.13->tensorflow-intel==2.13.0->tensorflow) (2.10)\n",
      "Requirement already satisfied: certifi>=2017.4.17 in c:\\users\\dell\\anaconda3\\lib\\site-packages (from requests<3,>=2.21.0->tensorboard<2.14,>=2.13->tensorflow-intel==2.13.0->tensorflow) (2020.12.5)\n",
      "Requirement already satisfied: chardet<5,>=3.0.2 in c:\\users\\dell\\anaconda3\\lib\\site-packages (from requests<3,>=2.21.0->tensorboard<2.14,>=2.13->tensorflow-intel==2.13.0->tensorflow) (4.0.0)\n",
      "Requirement already satisfied: oauthlib>=3.0.0 in c:\\users\\dell\\anaconda3\\lib\\site-packages (from requests-oauthlib>=0.7.0->google-auth-oauthlib<1.1,>=0.5->tensorboard<2.14,>=2.13->tensorflow-intel==2.13.0->tensorflow) (3.2.2)\n",
      "Installing collected packages: protobuf, markdown, grpcio, google-auth-oauthlib, absl-py, tensorflow-io-gcs-filesystem, tensorflow-estimator, tensorboard, opt-einsum, libclang, keras, google-pasta, gast, flatbuffers, astunparse, tensorflow-intel, tensorflow\n",
      "Successfully installed absl-py-1.4.0 astunparse-1.6.3 flatbuffers-23.5.26 gast-0.4.0 google-auth-oauthlib-1.0.0 google-pasta-0.2.0 grpcio-1.56.2 keras-2.13.1 libclang-16.0.6 markdown-3.4.4 opt-einsum-3.3.0 protobuf-4.23.4 tensorboard-2.13.0 tensorflow-2.13.0 tensorflow-estimator-2.13.0 tensorflow-intel-2.13.0 tensorflow-io-gcs-filesystem-0.31.0\n"
     ]
    }
   ],
   "source": [
    "pip install tensorflow"
   ]
  },
  {
   "cell_type": "code",
   "execution_count": 3,
   "id": "d3fd5199",
   "metadata": {},
   "outputs": [],
   "source": [
    "import numpy as np \n",
    "import pandas as pd\n",
    "import matplotlib.pyplot as plt\n",
    "\n",
    "from sklearn.preprocessing import MinMaxScaler\n",
    "from sklearn.metrics import mean_squared_error\n",
    "\n",
    "import tensorflow as tf\n",
    "from tensorflow.keras.models import Sequential\n",
    "from tensorflow.keras.layers import Dense,Dropout,SimpleRNN,LSTM\n",
    "\n",
    "from warnings import filterwarnings"
   ]
  },
  {
   "cell_type": "markdown",
   "id": "4ad39a9f",
   "metadata": {},
   "source": [
    "Load the Dataset"
   ]
  },
  {
   "cell_type": "code",
   "execution_count": 4,
   "id": "fedd9a9a",
   "metadata": {},
   "outputs": [],
   "source": [
    "df = pd.read_csv('C:/Users/Dell/Downloads/archive (18)/Google_Stock_Price_Train.csv')"
   ]
  },
  {
   "cell_type": "code",
   "execution_count": 5,
   "id": "6370dea7",
   "metadata": {},
   "outputs": [
    {
     "data": {
      "text/html": [
       "<div>\n",
       "<style scoped>\n",
       "    .dataframe tbody tr th:only-of-type {\n",
       "        vertical-align: middle;\n",
       "    }\n",
       "\n",
       "    .dataframe tbody tr th {\n",
       "        vertical-align: top;\n",
       "    }\n",
       "\n",
       "    .dataframe thead th {\n",
       "        text-align: right;\n",
       "    }\n",
       "</style>\n",
       "<table border=\"1\" class=\"dataframe\">\n",
       "  <thead>\n",
       "    <tr style=\"text-align: right;\">\n",
       "      <th></th>\n",
       "      <th>Date</th>\n",
       "      <th>Open</th>\n",
       "      <th>High</th>\n",
       "      <th>Low</th>\n",
       "      <th>Close</th>\n",
       "      <th>Volume</th>\n",
       "    </tr>\n",
       "  </thead>\n",
       "  <tbody>\n",
       "    <tr>\n",
       "      <th>0</th>\n",
       "      <td>1/3/2012</td>\n",
       "      <td>325.25</td>\n",
       "      <td>332.83</td>\n",
       "      <td>324.97</td>\n",
       "      <td>663.59</td>\n",
       "      <td>7,380,500</td>\n",
       "    </tr>\n",
       "    <tr>\n",
       "      <th>1</th>\n",
       "      <td>1/4/2012</td>\n",
       "      <td>331.27</td>\n",
       "      <td>333.87</td>\n",
       "      <td>329.08</td>\n",
       "      <td>666.45</td>\n",
       "      <td>5,749,400</td>\n",
       "    </tr>\n",
       "    <tr>\n",
       "      <th>2</th>\n",
       "      <td>1/5/2012</td>\n",
       "      <td>329.83</td>\n",
       "      <td>330.75</td>\n",
       "      <td>326.89</td>\n",
       "      <td>657.21</td>\n",
       "      <td>6,590,300</td>\n",
       "    </tr>\n",
       "    <tr>\n",
       "      <th>3</th>\n",
       "      <td>1/6/2012</td>\n",
       "      <td>328.34</td>\n",
       "      <td>328.77</td>\n",
       "      <td>323.68</td>\n",
       "      <td>648.24</td>\n",
       "      <td>5,405,900</td>\n",
       "    </tr>\n",
       "    <tr>\n",
       "      <th>4</th>\n",
       "      <td>1/9/2012</td>\n",
       "      <td>322.04</td>\n",
       "      <td>322.29</td>\n",
       "      <td>309.46</td>\n",
       "      <td>620.76</td>\n",
       "      <td>11,688,800</td>\n",
       "    </tr>\n",
       "  </tbody>\n",
       "</table>\n",
       "</div>"
      ],
      "text/plain": [
       "       Date    Open    High     Low   Close      Volume\n",
       "0  1/3/2012  325.25  332.83  324.97  663.59   7,380,500\n",
       "1  1/4/2012  331.27  333.87  329.08  666.45   5,749,400\n",
       "2  1/5/2012  329.83  330.75  326.89  657.21   6,590,300\n",
       "3  1/6/2012  328.34  328.77  323.68  648.24   5,405,900\n",
       "4  1/9/2012  322.04  322.29  309.46  620.76  11,688,800"
      ]
     },
     "execution_count": 5,
     "metadata": {},
     "output_type": "execute_result"
    }
   ],
   "source": [
    "df.head()"
   ]
  },
  {
   "cell_type": "code",
   "execution_count": 6,
   "id": "df8abf7c",
   "metadata": {},
   "outputs": [],
   "source": [
    "data = df.loc[:,[\"Open\"]].values\n",
    "\n",
    "\n",
    "train = data[:len(data)-50] \n",
    "test = data[len(train):] # last 50 data will be our test data\n",
    "\n",
    "# reshape\n",
    "train=train.reshape(train.shape[0],1)"
   ]
  },
  {
   "cell_type": "code",
   "execution_count": 7,
   "id": "bd8ff0e1",
   "metadata": {},
   "outputs": [
    {
     "data": {
      "text/plain": [
       "array([[325.25],\n",
       "       [331.27],\n",
       "       [329.83],\n",
       "       ...,\n",
       "       [779.8 ],\n",
       "       [787.85],\n",
       "       [798.24]])"
      ]
     },
     "execution_count": 7,
     "metadata": {},
     "output_type": "execute_result"
    }
   ],
   "source": [
    "train"
   ]
  },
  {
   "cell_type": "markdown",
   "id": "a84dd4be",
   "metadata": {},
   "source": [
    "Data Preprocessing"
   ]
  },
  {
   "cell_type": "code",
   "execution_count": 8,
   "id": "d674e279",
   "metadata": {},
   "outputs": [
    {
     "data": {
      "image/png": "[encoded data removed]",
      "text/plain": [
       "<Figure size 432x288 with 1 Axes>"
      ]
     },
     "metadata": {
      "needs_background": "light"
     },
     "output_type": "display_data"
    }
   ],
   "source": [
    "plt.plot(train);"
   ]
  },
  {
   "cell_type": "code",
   "execution_count": 9,
   "id": "54e5fc8a",
   "metadata": {},
   "outputs": [],
   "source": [
    "sc=MinMaxScaler()\n",
    "sc_train=sc.fit_transform(train)"
   ]
  },
  {
   "cell_type": "code",
   "execution_count": 10,
   "id": "5a8a2e93",
   "metadata": {},
   "outputs": [
    {
     "data": {
      "text/plain": [
       "array([[0.08886192],\n",
       "       [0.10045847],\n",
       "       [0.09768454],\n",
       "       ...,\n",
       "       [0.96447835],\n",
       "       [0.97998536],\n",
       "       [1.        ]])"
      ]
     },
     "execution_count": 10,
     "metadata": {},
     "output_type": "execute_result"
    }
   ],
   "source": [
    "sc_train"
   ]
  },
  {
   "cell_type": "code",
   "execution_count": 11,
   "id": "b4c9249e",
   "metadata": {},
   "outputs": [
    {
     "data": {
      "text/plain": [
       "1208"
      ]
     },
     "execution_count": 11,
     "metadata": {},
     "output_type": "execute_result"
    }
   ],
   "source": [
    "len(sc_train)"
   ]
  },
  {
   "cell_type": "code",
   "execution_count": 12,
   "id": "9a25c56a",
   "metadata": {},
   "outputs": [],
   "source": [
    "X_train = []\n",
    "y_train = []\n",
    "for i in range(60, 1208):\n",
    "    X_train.append(sc_train[i-60:i, 0])\n",
    "    y_train.append(sc_train[i, 0])\n",
    "X_train, y_train = np.array(X_train), np.array(y_train)"
   ]
  },
  {
   "cell_type": "code",
   "execution_count": 13,
   "id": "803ae14d",
   "metadata": {},
   "outputs": [],
   "source": [
    "# reshape\n",
    "\n",
    "X_train = np.reshape(X_train, (X_train.shape[0], X_train.shape[1], 1))"
   ]
  },
  {
   "cell_type": "code",
   "execution_count": 14,
   "id": "bd5c9b04",
   "metadata": {},
   "outputs": [],
   "source": [
    "regressor = Sequential()\n",
    "\n",
    "regressor.add(SimpleRNN(units = 50,activation='tanh', return_sequences = True, input_shape = (X_train.shape[1], 1)))\n",
    "regressor.add(Dropout(0.2)) \n",
    "\n",
    "regressor.add(SimpleRNN(units = 50,activation='tanh', return_sequences = True))\n",
    "regressor.add(Dropout(0.2))\n",
    "\n",
    "regressor.add(SimpleRNN(units = 50,activation='tanh', return_sequences = True))\n",
    "regressor.add(Dropout(0.2))\n",
    "\n",
    "regressor.add(SimpleRNN(units = 50))\n",
    "regressor.add(Dropout(0.2))\n",
    "\n",
    "\n",
    "regressor.add(Dense(units = 1))\n"
   ]
  },
  {
   "cell_type": "code",
   "execution_count": 15,
   "id": "30c02e5c",
   "metadata": {},
   "outputs": [],
   "source": [
    "regressor.compile(optimizer = 'adam', loss = 'mean_squared_error')"
   ]
  },
  {
   "cell_type": "code",
   "execution_count": 17,
   "id": "0ae4025c",
   "metadata": {},
   "outputs": [
    {
     "name": "stdout",
     "output_type": "stream",
     "text": [
      "Epoch 1/50\n",
      "36/36 [==============================] - 10s 55ms/step - loss: 0.0050\n",
      "Epoch 2/50\n",
      "36/36 [==============================] - 2s 57ms/step - loss: 0.0048\n",
      "Epoch 3/50\n",
      "36/36 [==============================] - 2s 54ms/step - loss: 0.0043\n",
      "Epoch 4/50\n",
      "36/36 [==============================] - 2s 57ms/step - loss: 0.0040\n",
      "Epoch 5/50\n",
      "36/36 [==============================] - 2s 58ms/step - loss: 0.0037\n",
      "Epoch 6/50\n",
      "36/36 [==============================] - 2s 58ms/step - loss: 0.0043\n",
      "Epoch 7/50\n",
      "36/36 [==============================] - 2s 56ms/step - loss: 0.0038\n",
      "Epoch 8/50\n",
      "36/36 [==============================] - 2s 62ms/step - loss: 0.0042\n",
      "Epoch 9/50\n",
      "36/36 [==============================] - 2s 61ms/step - loss: 0.0038\n",
      "Epoch 10/50\n",
      "36/36 [==============================] - 2s 66ms/step - loss: 0.0037\n",
      "Epoch 11/50\n",
      "36/36 [==============================] - 2s 60ms/step - loss: 0.0033\n",
      "Epoch 12/50\n",
      "36/36 [==============================] - 2s 55ms/step - loss: 0.0037\n",
      "Epoch 13/50\n",
      "36/36 [==============================] - 2s 54ms/step - loss: 0.0034\n",
      "Epoch 14/50\n",
      "36/36 [==============================] - 2s 57ms/step - loss: 0.0036\n",
      "Epoch 15/50\n",
      "36/36 [==============================] - 2s 54ms/step - loss: 0.0034\n",
      "Epoch 16/50\n",
      "36/36 [==============================] - 2s 52ms/step - loss: 0.0034\n",
      "Epoch 17/50\n",
      "36/36 [==============================] - 2s 51ms/step - loss: 0.0036\n",
      "Epoch 18/50\n",
      "36/36 [==============================] - 2s 50ms/step - loss: 0.0035\n",
      "Epoch 19/50\n",
      "36/36 [==============================] - 2s 51ms/step - loss: 0.0031\n",
      "Epoch 20/50\n",
      "36/36 [==============================] - 2s 50ms/step - loss: 0.0031\n",
      "Epoch 21/50\n",
      "36/36 [==============================] - 2s 52ms/step - loss: 0.0029\n",
      "Epoch 22/50\n",
      "36/36 [==============================] - 2s 51ms/step - loss: 0.0036\n",
      "Epoch 23/50\n",
      "36/36 [==============================] - 2s 54ms/step - loss: 0.0031\n",
      "Epoch 24/50\n",
      "36/36 [==============================] - 2s 54ms/step - loss: 0.0029\n",
      "Epoch 25/50\n",
      "36/36 [==============================] - 2s 51ms/step - loss: 0.0029\n",
      "Epoch 26/50\n",
      "36/36 [==============================] - 2s 51ms/step - loss: 0.0031\n",
      "Epoch 27/50\n",
      "36/36 [==============================] - 2s 51ms/step - loss: 0.0030\n",
      "Epoch 28/50\n",
      "36/36 [==============================] - 2s 52ms/step - loss: 0.0027\n",
      "Epoch 29/50\n",
      "36/36 [==============================] - 2s 51ms/step - loss: 0.0029\n",
      "Epoch 30/50\n",
      "36/36 [==============================] - 2s 51ms/step - loss: 0.0025\n",
      "Epoch 31/50\n",
      "36/36 [==============================] - 2s 51ms/step - loss: 0.0027\n",
      "Epoch 32/50\n",
      "36/36 [==============================] - 2s 52ms/step - loss: 0.0031\n",
      "Epoch 33/50\n",
      "36/36 [==============================] - 2s 59ms/step - loss: 0.0027\n",
      "Epoch 34/50\n",
      "36/36 [==============================] - 2s 55ms/step - loss: 0.0025\n",
      "Epoch 35/50\n",
      "36/36 [==============================] - 2s 55ms/step - loss: 0.0024\n",
      "Epoch 36/50\n",
      "36/36 [==============================] - 2s 52ms/step - loss: 0.0024\n",
      "Epoch 37/50\n",
      "36/36 [==============================] - 2s 51ms/step - loss: 0.0025\n",
      "Epoch 38/50\n",
      "36/36 [==============================] - 2s 52ms/step - loss: 0.0025\n",
      "Epoch 39/50\n",
      "36/36 [==============================] - 2s 62ms/step - loss: 0.0024\n",
      "Epoch 40/50\n",
      "36/36 [==============================] - 2s 56ms/step - loss: 0.0025\n",
      "Epoch 41/50\n",
      "36/36 [==============================] - 2s 51ms/step - loss: 0.0024\n",
      "Epoch 42/50\n",
      "36/36 [==============================] - 2s 55ms/step - loss: 0.0023\n",
      "Epoch 43/50\n",
      "36/36 [==============================] - 2s 53ms/step - loss: 0.0024\n",
      "Epoch 44/50\n",
      "36/36 [==============================] - 2s 58ms/step - loss: 0.0024\n",
      "Epoch 45/50\n",
      "36/36 [==============================] - 2s 53ms/step - loss: 0.0022\n",
      "Epoch 46/50\n",
      "36/36 [==============================] - 2s 52ms/step - loss: 0.0024\n",
      "Epoch 47/50\n",
      "36/36 [==============================] - 2s 54ms/step - loss: 0.0023\n",
      "Epoch 48/50\n",
      "36/36 [==============================] - 2s 52ms/step - loss: 0.0024\n",
      "Epoch 49/50\n",
      "36/36 [==============================] - 2s 52ms/step - loss: 0.0022\n",
      "Epoch 50/50\n",
      "36/36 [==============================] - 2s 57ms/step - loss: 0.0022\n"
     ]
    },
    {
     "data": {
      "text/plain": [
       "<keras.src.callbacks.History at 0x224d9173370>"
      ]
     },
     "execution_count": 17,
     "metadata": {},
     "output_type": "execute_result"
    }
   ],
   "source": [
    "regressor.fit(X_train, y_train, epochs = 50, batch_size = 32)"
   ]
  },
  {
   "cell_type": "code",
   "execution_count": 18,
   "id": "e4aa2ebc",
   "metadata": {},
   "outputs": [
    {
     "data": {
      "text/plain": [
       "1098"
      ]
     },
     "execution_count": 18,
     "metadata": {},
     "output_type": "execute_result"
    }
   ],
   "source": [
    "len(train) - len(test) - 60"
   ]
  },
  {
   "cell_type": "code",
   "execution_count": 19,
   "id": "12402fcd",
   "metadata": {},
   "outputs": [],
   "source": [
    "inputs = data[len(train) - len(test) - 60:]\n",
    "inputs = sc.transform(inputs) "
   ]
  },
  {
   "cell_type": "code",
   "execution_count": 20,
   "id": "9a191d52",
   "metadata": {},
   "outputs": [],
   "source": [
    "X_test = []\n",
    "for i in range(60, inputs.shape[0]):\n",
    "    X_test.append(inputs[i-60:i, 0]) # 0 dan 60 a, 1 den 61 e gibi kaydirarark 60 eleman aliyoruz \n",
    "X_test = np.array(X_test)\n",
    "X_test = X_test.reshape(X_test.shape[0], X_test.shape[1], 1)"
   ]
  },
  {
   "cell_type": "code",
   "execution_count": 21,
   "id": "dce5bef3",
   "metadata": {},
   "outputs": [
    {
     "name": "stdout",
     "output_type": "stream",
     "text": [
      "4/4 [==============================] - 30s 16ms/step\n"
     ]
    }
   ],
   "source": [
    "predicted_data = regressor.predict(X_test)\n",
    "predicted_data = sc.inverse_transform(predicted_data) "
   ]
  },
  {
   "cell_type": "code",
   "execution_count": 22,
   "id": "436783ec",
   "metadata": {},
   "outputs": [
    {
     "data": {
      "text/plain": [
       "array([[779.4212 ],\n",
       "       [780.2267 ],\n",
       "       [780.6874 ],\n",
       "       [780.8718 ],\n",
       "       [780.6588 ],\n",
       "       [780.5232 ],\n",
       "       [780.23975],\n",
       "       [779.96265],\n",
       "       [778.6326 ],\n",
       "       [778.17444],\n",
       "       [777.71045],\n",
       "       [778.1548 ],\n",
       "       [777.54926],\n",
       "       [776.5108 ],\n",
       "       [775.9982 ],\n",
       "       [775.9363 ],\n",
       "       [775.89575],\n",
       "       [776.31714],\n",
       "       [776.95465],\n",
       "       [777.5579 ],\n",
       "       [778.64954],\n",
       "       [779.49713],\n",
       "       [778.7232 ],\n",
       "       [775.81274],\n",
       "       [773.6595 ],\n",
       "       [772.55817],\n",
       "       [772.8483 ],\n",
       "       [773.92163],\n",
       "       [775.8879 ],\n",
       "       [776.9922 ],\n",
       "       [777.28284],\n",
       "       [778.51855],\n",
       "       [780.14307],\n",
       "       [781.30005],\n",
       "       [781.31714],\n",
       "       [780.34204],\n",
       "       [780.3477 ],\n",
       "       [780.209  ],\n",
       "       [779.77124],\n",
       "       [778.8182 ],\n",
       "       [779.066  ],\n",
       "       [779.7254 ],\n",
       "       [780.2913 ],\n",
       "       [780.43036],\n",
       "       [781.05035],\n",
       "       [781.8465 ],\n",
       "       [782.1723 ],\n",
       "       [781.5833 ],\n",
       "       [780.927  ],\n",
       "       [781.2904 ],\n",
       "       [783.4056 ],\n",
       "       [786.2434 ],\n",
       "       [787.43024],\n",
       "       [787.9717 ],\n",
       "       [789.4215 ],\n",
       "       [789.9562 ],\n",
       "       [789.2045 ],\n",
       "       [788.642  ],\n",
       "       [787.8528 ],\n",
       "       [785.1688 ],\n",
       "       [781.9695 ],\n",
       "       [778.5592 ],\n",
       "       [773.9113 ],\n",
       "       [773.7529 ],\n",
       "       [777.0515 ],\n",
       "       [780.15753],\n",
       "       [781.99854],\n",
       "       [780.25037],\n",
       "       [776.19556],\n",
       "       [769.967  ],\n",
       "       [768.8081 ],\n",
       "       [769.93427],\n",
       "       [773.4212 ],\n",
       "       [775.37427],\n",
       "       [775.8445 ],\n",
       "       [775.3541 ],\n",
       "       [774.70636],\n",
       "       [772.88196],\n",
       "       [773.0548 ],\n",
       "       [774.1208 ],\n",
       "       [774.3798 ],\n",
       "       [771.3094 ],\n",
       "       [770.4006 ],\n",
       "       [770.64703],\n",
       "       [772.38654],\n",
       "       [774.56647],\n",
       "       [776.6723 ],\n",
       "       [779.52466],\n",
       "       [782.47107],\n",
       "       [785.19244],\n",
       "       [786.97736],\n",
       "       [787.293  ],\n",
       "       [786.6212 ],\n",
       "       [785.4518 ],\n",
       "       [784.50415],\n",
       "       [784.6128 ],\n",
       "       [784.8459 ],\n",
       "       [784.9265 ],\n",
       "       [785.01495],\n",
       "       [783.5708 ]], dtype=float32)"
      ]
     },
     "execution_count": 22,
     "metadata": {},
     "output_type": "execute_result"
    }
   ],
   "source": [
    "predicted_data"
   ]
  },
  {
   "cell_type": "code",
   "execution_count": 23,
   "id": "880cb4ed",
   "metadata": {},
   "outputs": [
    {
     "data": {
      "image/png": "[encoded data removed]",
      "text/plain": [
       "<Figure size 576x576 with 1 Axes>"
      ]
     },
     "metadata": {
      "needs_background": "light"
     },
     "output_type": "display_data"
    }
   ],
   "source": [
    "plt.figure(figsize=(8,8))\n",
    "plt.plot(test,color=\"orange\",label=\"Real value\")\n",
    "plt.plot(predicted_data,color=\"red\",label=\"RNN predicted result\")\n",
    "plt.legend()\n",
    "plt.xlabel(\"Days\")\n",
    "plt.ylabel(\"Values\")\n",
    "plt.grid(True)\n",
    "plt.show()"
   ]
  },
  {
   "cell_type": "markdown",
   "id": "6f24fa35",
   "metadata": {},
   "source": [
    "LSTM "
   ]
  },
  {
   "cell_type": "code",
   "execution_count": 24,
   "id": "47ae1def",
   "metadata": {},
   "outputs": [
    {
     "data": {
      "text/plain": [
       "(1148, 60, 1)"
      ]
     },
     "execution_count": 24,
     "metadata": {},
     "output_type": "execute_result"
    }
   ],
   "source": [
    "X_train.shape"
   ]
  },
  {
   "cell_type": "code",
   "execution_count": 25,
   "id": "3a2e1918",
   "metadata": {},
   "outputs": [
    {
     "name": "stdout",
     "output_type": "stream",
     "text": [
      "Model: \"sequential_1\"\n",
      "_________________________________________________________________\n",
      " Layer (type)                Output Shape              Param #   \n",
      "=================================================================\n",
      " lstm (LSTM)                 (None, 10)                480       \n",
      "                                                                 \n",
      " dense_1 (Dense)             (None, 1)                 11        \n",
      "                                                                 \n",
      "=================================================================\n",
      "Total params: 491 (1.92 KB)\n",
      "Trainable params: 491 (1.92 KB)\n",
      "Non-trainable params: 0 (0.00 Byte)\n",
      "_________________________________________________________________\n"
     ]
    }
   ],
   "source": [
    "model1 = Sequential()\n",
    "model1.add(LSTM(10, input_shape=(None,1)))\n",
    "model1.add(Dense(1))\n",
    "model1.summary()"
   ]
  },
  {
   "cell_type": "code",
   "execution_count": 26,
   "id": "6040b376",
   "metadata": {},
   "outputs": [],
   "source": [
    "model1.compile(loss='mean_squared_error', optimizer='adam')"
   ]
  },
  {
   "cell_type": "code",
   "execution_count": 27,
   "id": "bfbeb704",
   "metadata": {},
   "outputs": [
    {
     "name": "stdout",
     "output_type": "stream",
     "text": [
      "Epoch 1/50\n",
      "36/36 [==============================] - 17s 29ms/step - loss: 0.4039\n",
      "Epoch 2/50\n",
      "36/36 [==============================] - 1s 21ms/step - loss: 0.0565\n",
      "Epoch 3/50\n",
      "36/36 [==============================] - 1s 22ms/step - loss: 0.0142\n",
      "Epoch 4/50\n",
      "36/36 [==============================] - 1s 20ms/step - loss: 0.0082\n",
      "Epoch 5/50\n",
      "36/36 [==============================] - 1s 23ms/step - loss: 0.0050\n",
      "Epoch 6/50\n",
      "36/36 [==============================] - 1s 21ms/step - loss: 0.0035\n",
      "Epoch 7/50\n",
      "36/36 [==============================] - 1s 21ms/step - loss: 0.0031\n",
      "Epoch 8/50\n",
      "36/36 [==============================] - 1s 23ms/step - loss: 0.0029\n",
      "Epoch 9/50\n",
      "36/36 [==============================] - 1s 25ms/step - loss: 0.0027\n",
      "Epoch 10/50\n",
      "36/36 [==============================] - 1s 23ms/step - loss: 0.0026\n",
      "Epoch 11/50\n",
      "36/36 [==============================] - 1s 23ms/step - loss: 0.0025\n",
      "Epoch 12/50\n",
      "36/36 [==============================] - 1s 26ms/step - loss: 0.0024\n",
      "Epoch 13/50\n",
      "36/36 [==============================] - 2s 58ms/step - loss: 0.0024\n",
      "Epoch 14/50\n",
      "36/36 [==============================] - 1s 22ms/step - loss: 0.0022\n",
      "Epoch 15/50\n",
      "36/36 [==============================] - 1s 22ms/step - loss: 0.0022\n",
      "Epoch 16/50\n",
      "36/36 [==============================] - 1s 22ms/step - loss: 0.0021\n",
      "Epoch 17/50\n",
      "36/36 [==============================] - 1s 21ms/step - loss: 0.0020\n",
      "Epoch 18/50\n",
      "36/36 [==============================] - 1s 27ms/step - loss: 0.0020\n",
      "Epoch 19/50\n",
      "36/36 [==============================] - 1s 22ms/step - loss: 0.0019\n",
      "Epoch 20/50\n",
      "36/36 [==============================] - 1s 25ms/step - loss: 0.0019\n",
      "Epoch 21/50\n",
      "36/36 [==============================] - 1s 22ms/step - loss: 0.0018\n",
      "Epoch 22/50\n",
      "36/36 [==============================] - 1s 23ms/step - loss: 0.0018\n",
      "Epoch 23/50\n",
      "36/36 [==============================] - 1s 24ms/step - loss: 0.0017\n",
      "Epoch 24/50\n",
      "36/36 [==============================] - 1s 23ms/step - loss: 0.0017\n",
      "Epoch 25/50\n",
      "36/36 [==============================] - 1s 24ms/step - loss: 0.0016\n",
      "Epoch 26/50\n",
      "36/36 [==============================] - 1s 22ms/step - loss: 0.0016\n",
      "Epoch 27/50\n",
      "36/36 [==============================] - 1s 24ms/step - loss: 0.0015\n",
      "Epoch 28/50\n",
      "36/36 [==============================] - 2s 46ms/step - loss: 0.0015\n",
      "Epoch 29/50\n",
      "36/36 [==============================] - 1s 22ms/step - loss: 0.0015\n",
      "Epoch 30/50\n",
      "36/36 [==============================] - 1s 23ms/step - loss: 0.0014\n",
      "Epoch 31/50\n",
      "36/36 [==============================] - 1s 22ms/step - loss: 0.0014\n",
      "Epoch 32/50\n",
      "36/36 [==============================] - 1s 22ms/step - loss: 0.0014\n",
      "Epoch 33/50\n",
      "36/36 [==============================] - 1s 22ms/step - loss: 0.0014\n",
      "Epoch 34/50\n",
      "36/36 [==============================] - 1s 22ms/step - loss: 0.0013\n",
      "Epoch 35/50\n",
      "36/36 [==============================] - 1s 22ms/step - loss: 0.0013\n",
      "Epoch 36/50\n",
      "36/36 [==============================] - 1s 22ms/step - loss: 0.0013\n",
      "Epoch 37/50\n",
      "36/36 [==============================] - 1s 22ms/step - loss: 0.0013\n",
      "Epoch 38/50\n",
      "36/36 [==============================] - 1s 22ms/step - loss: 0.0012\n",
      "Epoch 39/50\n",
      "36/36 [==============================] - 1s 23ms/step - loss: 0.0012\n",
      "Epoch 40/50\n",
      "36/36 [==============================] - 1s 22ms/step - loss: 0.0012\n",
      "Epoch 41/50\n",
      "36/36 [==============================] - 1s 22ms/step - loss: 0.0012\n",
      "Epoch 42/50\n",
      "36/36 [==============================] - 1s 21ms/step - loss: 0.0012\n",
      "Epoch 43/50\n",
      "36/36 [==============================] - 1s 21ms/step - loss: 0.0012\n",
      "Epoch 44/50\n",
      "36/36 [==============================] - 1s 22ms/step - loss: 0.0011\n",
      "Epoch 45/50\n",
      "36/36 [==============================] - 1s 22ms/step - loss: 0.0011\n",
      "Epoch 46/50\n",
      "36/36 [==============================] - 1s 23ms/step - loss: 0.0011\n",
      "Epoch 47/50\n",
      "36/36 [==============================] - 1s 23ms/step - loss: 0.0011\n",
      "Epoch 48/50\n",
      "36/36 [==============================] - 1s 22ms/step - loss: 0.0011\n",
      "Epoch 49/50\n",
      "36/36 [==============================] - 1s 22ms/step - loss: 0.0011\n",
      "Epoch 50/50\n",
      "36/36 [==============================] - 1s 24ms/step - loss: 0.0011\n"
     ]
    },
    {
     "data": {
      "text/plain": [
       "<keras.src.callbacks.History at 0x224d93e5d90>"
      ]
     },
     "execution_count": 27,
     "metadata": {},
     "output_type": "execute_result"
    }
   ],
   "source": [
    "model1.fit(X_train, y_train, epochs=50)"
   ]
  },
  {
   "cell_type": "code",
   "execution_count": 28,
   "id": "53c13877",
   "metadata": {},
   "outputs": [
    {
     "name": "stdout",
     "output_type": "stream",
     "text": [
      "4/4 [==============================] - 10s 7ms/step\n"
     ]
    },
    {
     "data": {
      "text/plain": [
       "array([[767.5576 ],\n",
       "       [770.49396],\n",
       "       [773.1743 ],\n",
       "       [775.2323 ],\n",
       "       [777.2762 ],\n",
       "       [778.5725 ],\n",
       "       [779.3928 ],\n",
       "       [780.16864],\n",
       "       [780.0909 ],\n",
       "       [779.78564],\n",
       "       [779.4589 ],\n",
       "       [778.45575],\n",
       "       [777.2056 ],\n",
       "       [776.1043 ],\n",
       "       [774.82983],\n",
       "       [773.644  ],\n",
       "       [772.329  ],\n",
       "       [771.38745],\n",
       "       [770.8081 ],\n",
       "       [770.34344],\n",
       "       [770.65625],\n",
       "       [770.8869 ],\n",
       "       [770.701  ],\n",
       "       [769.58673],\n",
       "       [769.5233 ],\n",
       "       [768.4361 ],\n",
       "       [767.7009 ],\n",
       "       [767.3867 ],\n",
       "       [767.20013],\n",
       "       [766.8914 ],\n",
       "       [767.20483],\n",
       "       [768.1429 ],\n",
       "       [769.5951 ],\n",
       "       [770.778  ],\n",
       "       [771.6707 ],\n",
       "       [772.9489 ],\n",
       "       [774.2487 ],\n",
       "       [774.8568 ],\n",
       "       [775.33167],\n",
       "       [775.80194],\n",
       "       [776.2885 ],\n",
       "       [776.538  ],\n",
       "       [776.822  ],\n",
       "       [776.88525],\n",
       "       [777.73724],\n",
       "       [778.04706],\n",
       "       [778.33936],\n",
       "       [778.7385 ],\n",
       "       [778.89246],\n",
       "       [779.71954],\n",
       "       [781.1288 ],\n",
       "       [782.77826],\n",
       "       [783.8068 ],\n",
       "       [786.1046 ],\n",
       "       [789.00934],\n",
       "       [790.6981 ],\n",
       "       [792.3678 ],\n",
       "       [794.605  ],\n",
       "       [795.1352 ],\n",
       "       [794.7797 ],\n",
       "       [793.96075],\n",
       "       [791.7612 ],\n",
       "       [787.9813 ],\n",
       "       [786.2209 ],\n",
       "       [784.07764],\n",
       "       [781.6968 ],\n",
       "       [780.8831 ],\n",
       "       [777.24426],\n",
       "       [774.9696 ],\n",
       "       [771.72723],\n",
       "       [769.26196],\n",
       "       [767.4683 ],\n",
       "       [766.0276 ],\n",
       "       [764.3034 ],\n",
       "       [764.17706],\n",
       "       [763.67224],\n",
       "       [763.4024 ],\n",
       "       [763.04395],\n",
       "       [763.805  ],\n",
       "       [764.1269 ],\n",
       "       [763.6194 ],\n",
       "       [762.4096 ],\n",
       "       [762.37146],\n",
       "       [762.21185],\n",
       "       [761.62427],\n",
       "       [762.30566],\n",
       "       [763.4575 ],\n",
       "       [765.1712 ],\n",
       "       [767.85126],\n",
       "       [770.86554],\n",
       "       [774.02014],\n",
       "       [777.5153 ],\n",
       "       [779.9267 ],\n",
       "       [782.99774],\n",
       "       [785.3093 ],\n",
       "       [787.0109 ],\n",
       "       [788.3311 ],\n",
       "       [789.271  ],\n",
       "       [790.1085 ],\n",
       "       [789.66705]], dtype=float32)"
      ]
     },
     "execution_count": 28,
     "metadata": {},
     "output_type": "execute_result"
    }
   ],
   "source": [
    "predicted_model1=model1.predict(X_test)\n",
    "predicted_model1=sc.inverse_transform(predicted_model1)\n",
    "predicted_model1"
   ]
  },
  {
   "cell_type": "code",
   "execution_count": 29,
   "id": "1a17cba7",
   "metadata": {},
   "outputs": [
    {
     "data": {
      "image/png": "[encoded data removed]",
      "text/plain": [
       "<Figure size 576x576 with 1 Axes>"
      ]
     },
     "metadata": {
      "needs_background": "light"
     },
     "output_type": "display_data"
    }
   ],
   "source": [
    "plt.figure(figsize=(8,8))\n",
    "plt.plot(test,color=\"LimeGreen\",label=\"Real values\")\n",
    "plt.plot(predicted_model1,color=\"Gold\",label=\"Predicted LSTM result\")\n",
    "plt.legend()\n",
    "plt.xlabel(\"Days\")\n",
    "plt.ylabel(\"Values\")\n",
    "plt.grid(True)\n",
    "plt.show()"
   ]
  },
  {
   "cell_type": "code",
   "execution_count": 30,
   "id": "045dbadd",
   "metadata": {},
   "outputs": [
    {
     "name": "stdout",
     "output_type": "stream",
     "text": [
      "Model: \"sequential_2\"\n",
      "_________________________________________________________________\n",
      " Layer (type)                Output Shape              Param #   \n",
      "=================================================================\n",
      " lstm_1 (LSTM)               (None, 50)                10400     \n",
      "                                                                 \n",
      " dense_2 (Dense)             (None, 1)                 51        \n",
      "                                                                 \n",
      "=================================================================\n",
      "Total params: 10451 (40.82 KB)\n",
      "Trainable params: 10451 (40.82 KB)\n",
      "Non-trainable params: 0 (0.00 Byte)\n",
      "_________________________________________________________________\n"
     ]
    }
   ],
   "source": [
    "model2 = Sequential()\n",
    "model2.add(LSTM(50, input_shape=(None,1)))\n",
    "model2.add(Dense(1))\n",
    "model2.summary()"
   ]
  },
  {
   "cell_type": "code",
   "execution_count": 31,
   "id": "2909b7d0",
   "metadata": {},
   "outputs": [],
   "source": [
    "model2.compile(loss='mean_squared_error', optimizer='adam')"
   ]
  },
  {
   "cell_type": "code",
   "execution_count": 32,
   "id": "6dad5201",
   "metadata": {},
   "outputs": [
    {
     "name": "stdout",
     "output_type": "stream",
     "text": [
      "Epoch 1/50\n",
      "36/36 [==============================] - 31s 26ms/step - loss: 0.0513\n",
      "Epoch 2/50\n",
      "36/36 [==============================] - 1s 25ms/step - loss: 0.0026\n",
      "Epoch 3/50\n",
      "36/36 [==============================] - 1s 27ms/step - loss: 0.0013\n",
      "Epoch 4/50\n",
      "36/36 [==============================] - 1s 25ms/step - loss: 0.0011\n",
      "Epoch 5/50\n",
      "36/36 [==============================] - 1s 25ms/step - loss: 0.0011\n",
      "Epoch 6/50\n",
      "36/36 [==============================] - 1s 25ms/step - loss: 0.0011\n",
      "Epoch 7/50\n",
      "36/36 [==============================] - 1s 25ms/step - loss: 0.0011\n",
      "Epoch 8/50\n",
      "36/36 [==============================] - 1s 25ms/step - loss: 0.0010\n",
      "Epoch 9/50\n",
      "36/36 [==============================] - 1s 25ms/step - loss: 0.0011\n",
      "Epoch 10/50\n",
      "36/36 [==============================] - 1s 26ms/step - loss: 0.0010\n",
      "Epoch 11/50\n",
      "36/36 [==============================] - 1s 26ms/step - loss: 9.9107e-04\n",
      "Epoch 12/50\n",
      "36/36 [==============================] - 1s 25ms/step - loss: 9.7840e-04\n",
      "Epoch 13/50\n",
      "36/36 [==============================] - 1s 25ms/step - loss: 9.5755e-04\n",
      "Epoch 14/50\n",
      "36/36 [==============================] - 1s 25ms/step - loss: 9.4624e-04\n",
      "Epoch 15/50\n",
      "36/36 [==============================] - 1s 25ms/step - loss: 9.1776e-04\n",
      "Epoch 16/50\n",
      "36/36 [==============================] - 1s 25ms/step - loss: 9.2785e-04\n",
      "Epoch 17/50\n",
      "36/36 [==============================] - 1s 25ms/step - loss: 9.0495e-04\n",
      "Epoch 18/50\n",
      "36/36 [==============================] - 1s 25ms/step - loss: 8.7067e-04\n",
      "Epoch 19/50\n",
      "36/36 [==============================] - 1s 26ms/step - loss: 9.0573e-04\n",
      "Epoch 20/50\n",
      "36/36 [==============================] - 1s 25ms/step - loss: 8.5659e-04\n",
      "Epoch 21/50\n",
      "36/36 [==============================] - 1s 26ms/step - loss: 8.4583e-04\n",
      "Epoch 22/50\n",
      "36/36 [==============================] - 1s 25ms/step - loss: 8.2375e-04\n",
      "Epoch 23/50\n",
      "36/36 [==============================] - 1s 25ms/step - loss: 8.0567e-04\n",
      "Epoch 24/50\n",
      "36/36 [==============================] - 1s 25ms/step - loss: 8.0686e-04\n",
      "Epoch 25/50\n",
      "36/36 [==============================] - 1s 25ms/step - loss: 7.8590e-04\n",
      "Epoch 26/50\n",
      "36/36 [==============================] - 1s 25ms/step - loss: 7.6918e-04\n",
      "Epoch 27/50\n",
      "36/36 [==============================] - 1s 25ms/step - loss: 7.7336e-04\n",
      "Epoch 28/50\n",
      "36/36 [==============================] - 1s 25ms/step - loss: 7.7177e-04\n",
      "Epoch 29/50\n",
      "36/36 [==============================] - 1s 26ms/step - loss: 7.4372e-04\n",
      "Epoch 30/50\n",
      "36/36 [==============================] - 1s 25ms/step - loss: 7.8459e-04\n",
      "Epoch 31/50\n",
      "36/36 [==============================] - 1s 26ms/step - loss: 7.5479e-04\n",
      "Epoch 32/50\n",
      "36/36 [==============================] - 1s 25ms/step - loss: 7.1768e-04\n",
      "Epoch 33/50\n",
      "36/36 [==============================] - 1s 25ms/step - loss: 7.7240e-04\n",
      "Epoch 34/50\n",
      "36/36 [==============================] - 1s 25ms/step - loss: 7.0045e-04\n",
      "Epoch 35/50\n",
      "36/36 [==============================] - 1s 25ms/step - loss: 7.0365e-04\n",
      "Epoch 36/50\n",
      "36/36 [==============================] - 1s 25ms/step - loss: 6.8180e-04\n",
      "Epoch 37/50\n",
      "36/36 [==============================] - 1s 25ms/step - loss: 6.6481e-04\n",
      "Epoch 38/50\n",
      "36/36 [==============================] - 1s 25ms/step - loss: 6.6074e-04\n",
      "Epoch 39/50\n",
      "36/36 [==============================] - 1s 24ms/step - loss: 6.5613e-04\n",
      "Epoch 40/50\n",
      "36/36 [==============================] - 1s 26ms/step - loss: 6.9964e-04\n",
      "Epoch 41/50\n",
      "36/36 [==============================] - 1s 26ms/step - loss: 6.7915e-04\n",
      "Epoch 42/50\n",
      "36/36 [==============================] - 1s 26ms/step - loss: 6.7754e-04\n",
      "Epoch 43/50\n",
      "36/36 [==============================] - 1s 26ms/step - loss: 6.6459e-04\n",
      "Epoch 44/50\n",
      "36/36 [==============================] - 1s 25ms/step - loss: 6.2191e-04\n",
      "Epoch 45/50\n",
      "36/36 [==============================] - 1s 25ms/step - loss: 6.3856e-04\n",
      "Epoch 46/50\n",
      "36/36 [==============================] - 1s 28ms/step - loss: 6.1436e-04\n",
      "Epoch 47/50\n",
      "36/36 [==============================] - 1s 25ms/step - loss: 6.0269e-04\n",
      "Epoch 48/50\n",
      "36/36 [==============================] - 1s 25ms/step - loss: 5.9804e-04\n",
      "Epoch 49/50\n",
      "36/36 [==============================] - 1s 27ms/step - loss: 6.2222e-04\n",
      "Epoch 50/50\n",
      "36/36 [==============================] - 1s 25ms/step - loss: 5.8476e-04\n"
     ]
    },
    {
     "data": {
      "text/plain": [
       "<keras.src.callbacks.History at 0x224dc858af0>"
      ]
     },
     "execution_count": 32,
     "metadata": {},
     "output_type": "execute_result"
    }
   ],
   "source": [
    "model2.fit(X_train, y_train, epochs=50)"
   ]
  },
  {
   "cell_type": "code",
   "execution_count": 33,
   "id": "755c0f9a",
   "metadata": {},
   "outputs": [
    {
     "name": "stdout",
     "output_type": "stream",
     "text": [
      "4/4 [==============================] - 10s 12ms/step\n"
     ]
    },
    {
     "data": {
      "text/plain": [
       "array([[778.5105 ],\n",
       "       [781.3686 ],\n",
       "       [783.73486],\n",
       "       [784.5707 ],\n",
       "       [785.50616],\n",
       "       [785.1904 ],\n",
       "       [784.008  ],\n",
       "       [783.49396],\n",
       "       [781.7757 ],\n",
       "       [779.90594],\n",
       "       [778.8676 ],\n",
       "       [776.88916],\n",
       "       [774.4717 ],\n",
       "       [773.00183],\n",
       "       [771.82654],\n",
       "       [771.1499 ],\n",
       "       [770.1854 ],\n",
       "       [770.0425 ],\n",
       "       [770.9283 ],\n",
       "       [771.8928 ],\n",
       "       [774.3546 ],\n",
       "       [776.1209 ],\n",
       "       [775.5528 ],\n",
       "       [771.3452 ],\n",
       "       [769.8279 ],\n",
       "       [767.2837 ],\n",
       "       [766.0417 ],\n",
       "       [766.78284],\n",
       "       [768.2611 ],\n",
       "       [768.88495],\n",
       "       [770.363  ],\n",
       "       [773.35175],\n",
       "       [777.44055],\n",
       "       [779.9293 ],\n",
       "       [780.1446 ],\n",
       "       [780.6101 ],\n",
       "       [781.591  ],\n",
       "       [781.03754],\n",
       "       [779.964  ],\n",
       "       [779.37506],\n",
       "       [779.62445],\n",
       "       [779.794  ],\n",
       "       [780.1465 ],\n",
       "       [779.9959 ],\n",
       "       [782.01715],\n",
       "       [783.0271 ],\n",
       "       [783.28046],\n",
       "       [783.5131 ],\n",
       "       [783.1655 ],\n",
       "       [784.7354 ],\n",
       "       [788.5258 ],\n",
       "       [792.97485],\n",
       "       [794.7123 ],\n",
       "       [798.38806],\n",
       "       [804.04535],\n",
       "       [806.111  ],\n",
       "       [806.2975 ],\n",
       "       [807.82227],\n",
       "       [805.664  ],\n",
       "       [800.60675],\n",
       "       [795.0084 ],\n",
       "       [787.58655],\n",
       "       [777.4863 ],\n",
       "       [774.97546],\n",
       "       [775.4691 ],\n",
       "       [775.80414],\n",
       "       [779.3439 ],\n",
       "       [774.31665],\n",
       "       [769.93994],\n",
       "       [764.0197 ],\n",
       "       [761.06354],\n",
       "       [761.6124 ],\n",
       "       [763.5764 ],\n",
       "       [763.55444],\n",
       "       [766.1312 ],\n",
       "       [767.1766 ],\n",
       "       [767.2439 ],\n",
       "       [766.17145],\n",
       "       [767.89636],\n",
       "       [768.9573 ],\n",
       "       [766.8636 ],\n",
       "       [761.9423 ],\n",
       "       [760.7734 ],\n",
       "       [761.47906],\n",
       "       [761.44104],\n",
       "       [764.36194],\n",
       "       [768.7497 ],\n",
       "       [773.7668 ],\n",
       "       [780.09393],\n",
       "       [786.1029 ],\n",
       "       [790.8673 ],\n",
       "       [795.19415],\n",
       "       [795.8983 ],\n",
       "       [797.56805],\n",
       "       [798.29034],\n",
       "       [797.7726 ],\n",
       "       [796.75366],\n",
       "       [795.6732 ],\n",
       "       [795.4131 ],\n",
       "       [792.6969 ]], dtype=float32)"
      ]
     },
     "execution_count": 33,
     "metadata": {},
     "output_type": "execute_result"
    }
   ],
   "source": [
    "predicted_model2=model2.predict(X_test)\n",
    "predicted_model2=sc.inverse_transform(predicted_model2)\n",
    "predicted_model2"
   ]
  },
  {
   "cell_type": "code",
   "execution_count": 34,
   "id": "f1672a5e",
   "metadata": {},
   "outputs": [
    {
     "data": {
      "image/png": "[encoded data removed]",
      "text/plain": [
       "<Figure size 576x576 with 1 Axes>"
      ]
     },
     "metadata": {
      "needs_background": "light"
     },
     "output_type": "display_data"
    }
   ],
   "source": [
    "plt.figure(figsize=(8,8))\n",
    "plt.plot(test,color=\"LimeGreen\",label=\"Real values\")\n",
    "plt.plot(predicted_model2,color=\"Gold\",label=\"Predicted LSTM result\")\n",
    "plt.legend()\n",
    "plt.xlabel(\"Days\")\n",
    "plt.ylabel(\"Values\")\n",
    "plt.grid(True)\n",
    "plt.show()"
   ]
  },
  {
   "cell_type": "code",
   "execution_count": null,
   "id": "41ea75a1",
   "metadata": {},
   "outputs": [],
   "source": []
  }
 ],
 "metadata": {
  "kernelspec": {
   "display_name": "Python 3",
   "language": "python",
   "name": "python3"
  },
  "language_info": {
   "codemirror_mode": {
    "name": "ipython",
    "version": 3
   },
   "file_extension": ".py",
   "mimetype": "text/x-python",
   "name": "python",
   "nbconvert_exporter": "python",
   "pygments_lexer": "ipython3",
   "version": "3.8.8"
  }
 },
 "nbformat": 4,
 "nbformat_minor": 5
}
